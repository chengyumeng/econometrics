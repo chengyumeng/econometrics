{
 "cells": [
  {
   "cell_type": "markdown",
   "metadata": {},
   "source": [
    "# 离散分布"
   ]
  },
  {
   "cell_type": "markdown",
   "metadata": {},
   "source": [
    "### 伯努利分布"
   ]
  },
  {
   "cell_type": "code",
   "execution_count": 14,
   "metadata": {},
   "outputs": [
    {
     "name": "stdout",
     "output_type": "stream",
     "text": [
      "0.5 0.5\n"
     ]
    }
   ],
   "source": [
    "from scipy import stats\n",
    "p = 0.5\n",
    "bernouliDist = stats.bernoulli(p)\n",
    "p_tails = bernouliDist.pmf(0)\n",
    "p_heads = bernouliDist.pmf(1)\n",
    "print(p_heads, p_tails)"
   ]
  },
  {
   "cell_type": "code",
   "execution_count": null,
   "outputs": [],
   "source": [
    "bernouliDist.rvs(10)"
   ],
   "metadata": {
    "collapsed": false,
    "pycharm": {
     "name": "#%%\n"
    }
   }
  },
  {
   "cell_type": "markdown",
   "source": [
    "### 二项分布"
   ],
   "metadata": {
    "collapsed": false
   }
  },
  {
   "cell_type": "code",
   "execution_count": null,
   "outputs": [],
   "source": [
    "import numpy as np\n",
    "import matplotlib.pyplot as plt\n",
    "\n",
    "\n",
    "n = 5\n",
    "p = 0.5\n",
    "X = np.arange(0,n+1,1)\n",
    "pList = stats.binom.pmf(X, n ,p)\n",
    "#绘图\n",
    "plt.plot(X, pList, marker = 'o' , linestyle = 'None')\n",
    "plt.vlines(X, 0 , pList)\n",
    "plt.title('n=%i,p=%.2f' % (n,p))\n",
    "plt.show()"
   ],
   "metadata": {
    "collapsed": false,
    "pycharm": {
     "name": "#%%\n"
    }
   }
  },
  {
   "cell_type": "markdown",
   "source": [
    "### 泊松分布"
   ],
   "metadata": {
    "collapsed": false
   }
  },
  {
   "cell_type": "code",
   "execution_count": null,
   "outputs": [],
   "source": [
    "import numpy as np\n",
    "import matplotlib.pyplot as plt\n",
    "from scipy.special import factorial\n",
    "_lambda = 1\n",
    "t = np.arange(0, 20, 1)\n",
    "d = np.exp(-_lambda)*np.power(_lambda, t)/factorial(t)\n",
    "\n",
    "plt.plot(t, d, 'bs',marker = '.')\n",
    "plt.show()"
   ],
   "metadata": {
    "collapsed": false,
    "pycharm": {
     "name": "#%%\n"
    }
   }
  },
  {
   "cell_type": "markdown",
   "source": [
    "### 正态分布"
   ],
   "metadata": {
    "collapsed": false
   }
  },
  {
   "cell_type": "code",
   "execution_count": null,
   "outputs": [],
   "source": [
    "#导入科学计算包，数组包，绘图包\n",
    "import scipy.stats as stats\n",
    "import numpy as np\n",
    "import matplotlib.pyplot as plt\n",
    "#定义随机变量\n",
    "mu=0 #平均值\n",
    "sigma= 1 #标准差\n",
    "X = np.arange(-5, 5,0.1)\n",
    "#概率密度函数\n",
    "y=stats.norm.pdf(X,mu,sigma)\n",
    "#绘图\n",
    "plt.plot(X, y)\n",
    "plt.xlabel('x')\n",
    "plt.ylabel('y')\n",
    "plt.title('$\\mu$=%.1f,$\\sigma^2$=%.1f' % (mu,sigma))\n",
    "#网格\n",
    "plt.grid()\n",
    "#显示图形\n",
    "plt.show()"
   ],
   "metadata": {
    "collapsed": false,
    "pycharm": {
     "name": "#%%\n"
    }
   }
  },
  {
   "cell_type": "code",
   "execution_count": null,
   "outputs": [],
   "source": [
    "nd = stats.norm(3.5, 0.76)\n",
    "nd.cdf(2.6)"
   ],
   "metadata": {
    "collapsed": false,
    "pycharm": {
     "name": "#%%\n"
    }
   }
  },
  {
   "cell_type": "code",
   "execution_count": 15,
   "metadata": {},
   "outputs": [
    {
     "data": {
      "text/plain": [
       "array([1, 0, 0, 1, 0, 0, 1, 1, 0, 0])"
      ]
     },
     "execution_count": 15,
     "metadata": {},
     "output_type": "execute_result"
    }
   ],
   "source": [
    "nd = stats.norm(3.5, 0.76)\n",
    "nd.cdf(2.6)"
   ]
  },
  {
   "cell_type": "markdown",
   "metadata": {},
   "source": [
    "### 二项分布"
   ]
  },
  {
   "cell_type": "code",
   "execution_count": 16,
   "metadata": {},
   "outputs": [
    {
     "data": {
      "image/png": "[encoded data removed]",
      "text/plain": [
       "<Figure size 432x288 with 1 Axes>"
      ]
     },
     "metadata": {
      "needs_background": "light"
     },
     "output_type": "display_data"
    }
   ],
   "source": [
    "import numpy as np\n",
    "import matplotlib.pyplot as plt\n",
    "\n",
    "\n",
    "n = 5\n",
    "p = 0.5\n",
    "X = np.arange(0,n+1,1)\n",
    "pList = stats.binom.pmf(X, n ,p)\n",
    "#绘图\n",
    "plt.plot(X, pList, marker = 'o' , linestyle = 'None')\n",
    "plt.vlines(X, 0 , pList)\n",
    "plt.title('n=%i,p=%.2f' % (n,p))\n",
    "plt.show()"
   ]
  },
  {
   "cell_type": "markdown",
   "metadata": {},
   "source": [
    "### 泊松分布"
   ]
  },
  {
   "cell_type": "code",
   "execution_count": 33,
   "metadata": {},
   "outputs": [
    {
     "data": {
      "image/png": "[encoded data removed]",
      "text/plain": [
       "<Figure size 432x288 with 1 Axes>"
      ]
     },
     "metadata": {
      "needs_background": "light"
     },
     "output_type": "display_data"
    }
   ],
   "source": [
    "import numpy as np\n",
    "import matplotlib.pyplot as plt\n",
    "from scipy.special import factorial\n",
    "_lambda = 1\n",
    "t = np.arange(0, 20, 1)\n",
    "d = np.exp(-_lambda)*np.power(_lambda, t)/factorial(t)\n",
    "\n",
    "plt.plot(t, d, 'bs',marker = '.')\n",
    "plt.show()"
   ]
  },
  {
   "cell_type": "markdown",
   "metadata": {},
   "source": [
    "### 正态分布"
   ]
  },
  {
   "cell_type": "code",
   "execution_count": 35,
   "metadata": {},
   "outputs": [
    {
     "data": {
      "image/png": "[encoded data removed]",
      "text/plain": [
       "<Figure size 432x288 with 1 Axes>"
      ]
     },
     "metadata": {
      "needs_background": "light"
     },
     "output_type": "display_data"
    }
   ],
   "source": [
    "#导入科学计算包，数组包，绘图包\n",
    "import scipy.stats as stats\n",
    "import numpy as np\n",
    "import matplotlib.pyplot as plt\n",
    "#定义随机变量\n",
    "mu=0 #平均值\n",
    "sigma= 1 #标准差\n",
    "X = np.arange(-5, 5,0.1)\n",
    "#概率密度函数\n",
    "y=stats.norm.pdf(X,mu,sigma)\n",
    "#绘图\n",
    "plt.plot(X, y)\n",
    "plt.xlabel('x')\n",
    "plt.ylabel('y')\n",
    "plt.title('$\\mu$=%.1f,$\\sigma^2$=%.1f' % (mu,sigma))\n",
    "#网格\n",
    "plt.grid()\n",
    "#显示图形\n",
    "plt.show()"
   ]
  },
  {
   "cell_type": "code",
   "execution_count": 36,
   "metadata": {},
   "outputs": [
    {
     "data": {
      "text/plain": [
       "0.11816486815719918"
      ]
     },
     "execution_count": 36,
     "metadata": {},
     "output_type": "execute_result"
    }
   ],
   "source": [
    "nd = stats.norm(3.5, 0.76)\n",
    "nd.cdf(2.6)"
   ]
  }
 ],
 "metadata": {
  "kernelspec": {
   "display_name": "Python 3",
   "language": "python",
   "name": "python3"
  },
  "language_info": {
   "codemirror_mode": {
    "name": "ipython",
    "version": 3
   },
   "file_extension": ".py",
   "mimetype": "text/x-python",
   "name": "python",
   "nbconvert_exporter": "python",
   "pygments_lexer": "ipython3",
   "version": "3.8.5"
  }
 },
 "nbformat": 4,
 "nbformat_minor": 4
}